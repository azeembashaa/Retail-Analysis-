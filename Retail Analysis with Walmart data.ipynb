{
 "cells": [
  {
   "cell_type": "code",
   "execution_count": 12,
   "id": "aa1c917c-a19f-42cd-8ff6-0adf7d581ddc",
   "metadata": {},
   "outputs": [],
   "source": [
    "import pandas as pd\n",
    "\n",
    "file_path = 'C:/Users/Admin/Downloads/archive/Walmart_Store_sales.csv'\n",
    "sales_data = pd.read_csv(file_path)\n",
    "\n"
   ]
  },
  {
   "cell_type": "code",
   "execution_count": 14,
   "id": "f212eb22-01b6-4bf4-96ed-b2d0db4e3515",
   "metadata": {},
   "outputs": [
    {
     "data": {
      "text/plain": [
       "(20, 301397792.46)"
      ]
     },
     "execution_count": 14,
     "metadata": {},
     "output_type": "execute_result"
    }
   ],
   "source": [
    "total_sales_per_store = sales_data.groupby('Store')['Weekly_Sales'].sum()\n",
    "\n",
    "max_sales_store = total_sales_per_store.idxmax()\n",
    "max_sales_value = total_sales_per_store.max()\n",
    "\n",
    "max_sales_store, max_sales_value"
   ]
  },
  {
   "cell_type": "code",
   "execution_count": null,
   "id": "f5edc4b7-8bc9-4815-934f-4e5ed3b433a4",
   "metadata": {},
   "outputs": [],
   "source": []
  }
 ],
 "metadata": {
  "kernelspec": {
   "display_name": "Python 3 (ipykernel)",
   "language": "python",
   "name": "python3"
  },
  "language_info": {
   "codemirror_mode": {
    "name": "ipython",
    "version": 3
   },
   "file_extension": ".py",
   "mimetype": "text/x-python",
   "name": "python",
   "nbconvert_exporter": "python",
   "pygments_lexer": "ipython3",
   "version": "3.11.7"
  }
 },
 "nbformat": 4,
 "nbformat_minor": 5
}
